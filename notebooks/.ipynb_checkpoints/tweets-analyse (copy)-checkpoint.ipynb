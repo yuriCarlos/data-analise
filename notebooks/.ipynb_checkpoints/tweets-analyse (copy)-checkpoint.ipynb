{
 "cells": [
  {
   "cell_type": "code",
   "execution_count": 41,
   "metadata": {
    "collapsed": false
   },
   "outputs": [],
   "source": [
    "from dataset import tweetProccess\n",
    "from nltk.tag import pos_tag\n",
    "from nltk.tokenize import word_tokenize\n",
    "import nltk, re\n",
    "from sklearn.feature_extraction.text import CountVectorizer\n",
    "from sklearn.decomposition import LatentDirichletAllocation\n",
    "\n",
    "\n",
    "'''gets the data'''\n",
    "dataHandler = tweetProccess.FileTreat()\n",
    "content = dataHandler.getBadTweets()\n",
    "\n",
    "no_features = 2000\n",
    "\n",
    "\n",
    "#Use to download nltk content\n",
    "#nltk.download()\n",
    "\n",
    "'''defining a function to remove numbers'''\n",
    "def tokenize(text):\n",
    "    tokenized = []\n",
    "    for word in nltk.word_tokenize(text):\n",
    "        if re.search('[a-zA-Z]', word):\n",
    "            tokenized.append(word.lower())\n",
    "            \n",
    "    return tokenized\n",
    "\n",
    "'''defining a function to tokenize and get only vebs and adjectivies'''\n",
    "def tokenizeStructures(text):\n",
    "    #gets the type of each word in the text\n",
    "    tags = pos_tag(word_tokenize(text))\n",
    "    \n",
    "    interesting = []\n",
    "    for tag in tags:\n",
    "        #removes tweet links\n",
    "        if re.search('t.co+', tag[0]):\n",
    "            continue\n",
    "        \n",
    "        if (tag[1] == 'VERB' or tag[1] == 'JJ') and len(tag[0]) > 2:\n",
    "            interesting.append(tag[0])\n",
    "    \n",
    "    return interesting\n",
    "\n",
    "def getLda(dataFrame, no_clusters):\n",
    "    ldas = []\n",
    "    no_topics = 7\n",
    "    \n",
    "    #for each cluster\n",
    "    print(no_clusters)\n",
    "    for cluster in range(no_clusters):\n",
    "        print('cluster: ' + str(cluster))\n",
    "        \n",
    "        lda = LatentDirichletAllocation(n_components=no_topics, max_iter=5, learning_method='online', learning_offset=50.,random_state=0)\n",
    "        tf_vectorizer = CountVectorizer(tokenizer=tokenizeStructures, max_features=no_features, stop_words='english')\n",
    "        \n",
    "        #get text of tweets from this cluster\n",
    "        texts = dataFrame['text'][cluster].values\n",
    "        \n",
    "        #creates a tf matrix for this cluster\n",
    "        tf = tf_vectorizer.fit_transform(texts)\n",
    "        \n",
    "        #get feature names for this matrix\n",
    "        tf_feature_names = tf_vectorizer.get_feature_names()\n",
    "        \n",
    "        #extract latent topics\n",
    "        ldas.append((cluster, lda.fit(tf), tf_feature_names))\n",
    "        \n",
    "    return ldas\n",
    "        \n",
    "def display_topics(model, feature_names, no_top_words):\n",
    "    for topic_idx, topic in enumerate(model.components_):\n",
    "        print(\"Topic %d:\" % (topic_idx))\n",
    "        print (\" \".join([feature_names[i]\n",
    "                        for i in topic.argsort()[:-no_top_words - 1:-1]]))\n",
    "\n",
    "def print_top_words(model, feature_names, n_top_words):\n",
    "    #print('model size:' + str(len(model.components_)))\n",
    "    for topic_idx, topic in enumerate(model.components_):\n",
    "        #print(feature_names)\n",
    "        message = \"Topic #%d: \" % topic_idx\n",
    "        message += \" \".join([feature_names[i]\n",
    "                             for i in topic.argsort()[ -n_top_words:]])\n",
    "        print(message)"
   ]
  },
  {
   "cell_type": "code",
   "execution_count": 14,
   "metadata": {
    "collapsed": false
   },
   "outputs": [
    {
     "name": "stdout",
     "output_type": "stream",
     "text": [
      "CPU times: user 6.72 s, sys: 76 ms, total: 6.8 s\n",
      "Wall time: 3.44 s\n"
     ]
    }
   ],
   "source": [
    "from sklearn.cluster import KMeans\n",
    "\n",
    "#generate the tf matrix\n",
    "tf_vectorizer = CountVectorizer(tokenizer=tokenizeStructures, max_features=no_features, stop_words='english')\n",
    "tf = tf_vectorizer.fit_transform(content)\n",
    "\n",
    "#generates the clusters\n",
    "n_cluters = 4\n",
    "km = KMeans(n_clusters = n_cluters)\n",
    "%time km.fit(tf)\n",
    "\n",
    "clusters = km.labels_.tolist()"
   ]
  },
  {
   "cell_type": "code",
   "execution_count": 42,
   "metadata": {
    "collapsed": false,
    "scrolled": false
   },
   "outputs": [
    {
     "name": "stdout",
     "output_type": "stream",
     "text": [
      "0    60126\n",
      "3     1193\n",
      "1      638\n",
      "2      101\n",
      "Name: cluster, dtype: int64\n",
      "4\n",
      "cluster: 0\n",
      "cluster: 1\n",
      "cluster: 2\n",
      "cluster: 3\n"
     ]
    }
   ],
   "source": [
    "import pandas as pd\n",
    "\n",
    "table = {'text': content, 'cluster': clusters, 'id': [idx for idx in range(len(content))]}\n",
    "\n",
    "dataframe = pd.DataFrame(table, index=[clusters], columns=['text', 'cluster', 'id'])\n",
    "\n",
    "#sizes of each cluster\n",
    "print(dataframe['cluster'].value_counts())\n",
    "\n",
    "#gets the latent topic of each cluster\n",
    "result = getLda(dataframe, n_cluters)"
   ]
  },
  {
   "cell_type": "code",
   "execution_count": 46,
   "metadata": {
    "collapsed": false
   },
   "outputs": [
    {
     "name": "stdout",
     "output_type": "stream",
     "text": [
      "375\n",
      "cluster: 0\n",
      "Topic #0: beneficial\n",
      "Topic #1: clown\n",
      "Topic #2: awful\n",
      "Topic #3: august\n",
      "Topic #4: awful\n",
      "Topic #5: btsbbmas\n",
      "Topic #6: asian\n",
      "================================================\n",
      "375\n",
      "cluster: 1\n",
      "Topic #0: normal\n",
      "Topic #1: wont\n",
      "Topic #2: low\n",
      "Topic #3: likely\n",
      "Topic #4: low\n",
      "Topic #5: skinny\n",
      "Topic #6: human\n",
      "================================================\n",
      "375\n",
      "375\n",
      "cluster: 3\n",
      "Topic #0: horrible\n",
      "Topic #1: perfect\n",
      "Topic #2: good\n",
      "Topic #3: fucking\n",
      "Topic #4: good\n",
      "Topic #5: low\n",
      "Topic #6: fat\n",
      "================================================\n"
     ]
    }
   ],
   "source": [
    "no_top_words = 10\n",
    "\n",
    "for cluster, lda, feature_names in result:\n",
    "    print(len(lda.components_[0]))\n",
    "    if(len(feature_names) > 10):\n",
    "        \n",
    "        print(\"cluster: \" + str(cluster))\n",
    "        print_top_words(lda, feature_names, 1)\n",
    "        print('================================================')"
   ]
  },
  {
   "cell_type": "code",
   "execution_count": 18,
   "metadata": {
    "collapsed": false
   },
   "outputs": [
    {
     "name": "stdout",
     "output_type": "stream",
     "text": [
      "<enumerate object at 0x7fb08d6de318>\n"
     ]
    }
   ],
   "source": [
    "print(enumerate(result[3][1].components_))"
   ]
  },
  {
   "cell_type": "code",
   "execution_count": null,
   "metadata": {
    "collapsed": false
   },
   "outputs": [],
   "source": [
    "dataframe.tail()"
   ]
  },
  {
   "cell_type": "code",
   "execution_count": null,
   "metadata": {
    "collapsed": false,
    "scrolled": false
   },
   "outputs": [],
   "source": [
    "dataframe['cluster'].value_counts()\n",
    "dataframe.tail()\n"
   ]
  },
  {
   "cell_type": "code",
   "execution_count": null,
   "metadata": {
    "collapsed": false
   },
   "outputs": [],
   "source": []
  },
  {
   "cell_type": "code",
   "execution_count": null,
   "metadata": {
    "collapsed": false
   },
   "outputs": [],
   "source": []
  },
  {
   "cell_type": "code",
   "execution_count": null,
   "metadata": {
    "collapsed": false
   },
   "outputs": [],
   "source": []
  },
  {
   "cell_type": "code",
   "execution_count": null,
   "metadata": {
    "collapsed": false
   },
   "outputs": [],
   "source": []
  },
  {
   "cell_type": "code",
   "execution_count": null,
   "metadata": {
    "collapsed": false
   },
   "outputs": [],
   "source": []
  },
  {
   "cell_type": "code",
   "execution_count": null,
   "metadata": {
    "collapsed": true
   },
   "outputs": [],
   "source": [
    "#from sklearn.metrics.pairwise import cosine_similarity\n",
    "#dist = 1 - cosine_similarity(tf)\n",
    "\n",
    "#print(dist)"
   ]
  }
 ],
 "metadata": {
  "anaconda-cloud": {},
  "kernelspec": {
   "display_name": "Python [default]",
   "language": "python",
   "name": "python3"
  },
  "language_info": {
   "codemirror_mode": {
    "name": "ipython",
    "version": 3
   },
   "file_extension": ".py",
   "mimetype": "text/x-python",
   "name": "python",
   "nbconvert_exporter": "python",
   "pygments_lexer": "ipython3",
   "version": "3.5.2"
  }
 },
 "nbformat": 4,
 "nbformat_minor": 1
}
