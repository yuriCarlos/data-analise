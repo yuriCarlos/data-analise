{
 "cells": [
  {
   "cell_type": "code",
   "execution_count": 9,
   "metadata": {
    "collapsed": false
   },
   "outputs": [],
   "source": [
    "from dataset import tweetProccess\n",
    "from nltk.tag import pos_tag\n",
    "from nltk.tokenize import word_tokenize\n",
    "import nltk, re\n",
    "from sklearn.feature_extraction.text import CountVectorizer\n",
    "from sklearn.decomposition import LatentDirichletAllocation\n",
    "from nltk.sentiment.vader import SentimentIntensityAnalyzer as si\n",
    "\n",
    "\n",
    "'''gets the data'''\n",
    "dataHandler = tweetProccess.FileTreat()\n",
    "content = dataHandler.getBadTweets()\n",
    "\n",
    "no_features = 2000\n",
    "\n",
    "\n",
    "#Use to download nltk content\n",
    "#nltk.download()\n",
    "\n",
    "'''defining a function to remove numbers'''\n",
    "def tokenize(text):\n",
    "    tokenized = []\n",
    "    for word in nltk.word_tokenize(text):\n",
    "        if re.search('[a-zA-Z]', word):\n",
    "            tokenized.append(word.lower())\n",
    "            \n",
    "    return tokenized\n",
    "\n",
    "'''defining a function to tokenize and get only vebs and adjectivies'''\n",
    "def tokenizeStructures(text):\n",
    "    #gets the type of each word in the text\n",
    "    tags = pos_tag(word_tokenize(text))\n",
    "    \n",
    "    interesting = []\n",
    "    for tag in tags:\n",
    "        #removes tweet links\n",
    "        if re.search('t.co+', tag[0]):\n",
    "            continue\n",
    "        \n",
    "        if (tag[1] == 'VERB' or tag[1] == 'JJ') and len(tag[0]) > 2:\n",
    "            interesting.append(tag[0])\n",
    "    \n",
    "    return interesting\n",
    "\n",
    "def print_top_words(model, feature_names, n_top_words):\n",
    "    for topic_idx, topic in enumerate(model.components_):\n",
    "        message = \"Topic #%d: \" % topic_idx\n",
    "        message += \" \".join([feature_names[i]\n",
    "                             for i in topic.argsort()[:-n_top_words - 1:-1]])\n",
    "        print(message)\n",
    "        \n",
    "def get_neg_matrix(texts):\n",
    "    analyser = si()\n",
    "    vec = []\n",
    "    for sentense in texts:\n",
    "        #vec.append([analyser.polarity_scores(sentense)['neg']])\n",
    "        vec.append([analyser.polarity_scores(sentense)['neg'], analyser.polarity_scores(sentense)['pos']])\n",
    "    return vec\n",
    "\n",
    "#print(get_neg_matrix(content))"
   ]
  },
  {
   "cell_type": "code",
   "execution_count": 6,
   "metadata": {
    "collapsed": false
   },
   "outputs": [],
   "source": [
    "cmps = 5\n",
    "\n",
    "lda = LatentDirichletAllocation(n_components= 5, max_iter=5, learning_method='online', learning_offset=50.,random_state=0)\n",
    "tf_vectorizer = CountVectorizer(tokenizer=tokenizeStructures, max_features=no_features, stop_words='english')\n",
    "\n",
    "tf = tf_vectorizer.fit_transform(content)\n",
    "tf_feature_names = tf_vectorizer.get_feature_names()\n",
    "topics = lda.fit(tf)"
   ]
  },
  {
   "cell_type": "code",
   "execution_count": 10,
   "metadata": {
    "collapsed": false,
    "scrolled": true
   },
   "outputs": [
    {
     "ename": "TypeError",
     "evalue": "sequence item 0: expected str instance, numpy.float64 found",
     "output_type": "error",
     "traceback": [
      "\u001b[0;31m---------------------------------------------------------------------------\u001b[0m",
      "\u001b[0;31mTypeError\u001b[0m                                 Traceback (most recent call last)",
      "\u001b[0;32m<ipython-input-10-d6fa0a3f54db>\u001b[0m in \u001b[0;36m<module>\u001b[0;34m()\u001b[0m\n\u001b[0;32m----> 1\u001b[0;31m \u001b[0mprint_top_words\u001b[0m\u001b[0;34m(\u001b[0m\u001b[0mlda\u001b[0m\u001b[0;34m,\u001b[0m \u001b[0mtf_feature_names\u001b[0m\u001b[0;34m,\u001b[0m \u001b[0;36m10\u001b[0m\u001b[0;34m)\u001b[0m\u001b[0;34m\u001b[0m\u001b[0m\n\u001b[0m",
      "\u001b[0;32m<ipython-input-9-8da6f079220c>\u001b[0m in \u001b[0;36mprint_top_words\u001b[0;34m(model, feature_names, n_top_words)\u001b[0m\n\u001b[1;32m     50\u001b[0m         \u001b[0mmessage\u001b[0m \u001b[0;34m+=\u001b[0m \u001b[0;34m\"\\n\"\u001b[0m\u001b[0;34m\u001b[0m\u001b[0m\n\u001b[1;32m     51\u001b[0m         message += \" \".join([topic[i]\n\u001b[0;32m---> 52\u001b[0;31m                              for i in topic.argsort()[:-n_top_words - 1:-1]])\n\u001b[0m\u001b[1;32m     53\u001b[0m         \u001b[0mprint\u001b[0m\u001b[0;34m(\u001b[0m\u001b[0mmessage\u001b[0m\u001b[0;34m)\u001b[0m\u001b[0;34m\u001b[0m\u001b[0m\n\u001b[1;32m     54\u001b[0m \u001b[0;34m\u001b[0m\u001b[0m\n",
      "\u001b[0;31mTypeError\u001b[0m: sequence item 0: expected str instance, numpy.float64 found"
     ]
    }
   ],
   "source": [
    "print_top_words(lda, tf_feature_names, 10)"
   ]
  },
  {
   "cell_type": "code",
   "execution_count": null,
   "metadata": {
    "collapsed": false
   },
   "outputs": [],
   "source": [
    "print(lda.components_)"
   ]
  },
  {
   "cell_type": "code",
   "execution_count": null,
   "metadata": {
    "collapsed": false,
    "scrolled": true
   },
   "outputs": [],
   "source": []
  },
  {
   "cell_type": "code",
   "execution_count": null,
   "metadata": {
    "collapsed": false,
    "scrolled": true
   },
   "outputs": [],
   "source": []
  },
  {
   "cell_type": "code",
   "execution_count": null,
   "metadata": {
    "collapsed": false
   },
   "outputs": [],
   "source": []
  },
  {
   "cell_type": "code",
   "execution_count": null,
   "metadata": {
    "collapsed": false
   },
   "outputs": [],
   "source": []
  },
  {
   "cell_type": "code",
   "execution_count": null,
   "metadata": {
    "collapsed": false,
    "scrolled": false
   },
   "outputs": [],
   "source": []
  },
  {
   "cell_type": "code",
   "execution_count": null,
   "metadata": {
    "collapsed": false
   },
   "outputs": [],
   "source": []
  },
  {
   "cell_type": "code",
   "execution_count": null,
   "metadata": {
    "collapsed": false
   },
   "outputs": [],
   "source": []
  },
  {
   "cell_type": "code",
   "execution_count": null,
   "metadata": {
    "collapsed": false
   },
   "outputs": [],
   "source": []
  },
  {
   "cell_type": "code",
   "execution_count": null,
   "metadata": {
    "collapsed": false
   },
   "outputs": [],
   "source": []
  },
  {
   "cell_type": "code",
   "execution_count": null,
   "metadata": {
    "collapsed": false
   },
   "outputs": [],
   "source": []
  },
  {
   "cell_type": "code",
   "execution_count": 8,
   "metadata": {
    "collapsed": true
   },
   "outputs": [],
   "source": [
    "#from sklearn.metrics.pairwise import cosine_similarity\n",
    "#dist = 1 - cosine_similarity(tf)\n",
    "\n",
    "#print(dist)"
   ]
  }
 ],
 "metadata": {
  "anaconda-cloud": {},
  "kernelspec": {
   "display_name": "Python [default]",
   "language": "python",
   "name": "python3"
  },
  "language_info": {
   "codemirror_mode": {
    "name": "ipython",
    "version": 3
   },
   "file_extension": ".py",
   "mimetype": "text/x-python",
   "name": "python",
   "nbconvert_exporter": "python",
   "pygments_lexer": "ipython3",
   "version": "3.5.2"
  }
 },
 "nbformat": 4,
 "nbformat_minor": 1
}
