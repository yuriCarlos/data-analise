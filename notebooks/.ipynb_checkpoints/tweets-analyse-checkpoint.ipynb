{
 "cells": [
  {
   "cell_type": "code",
   "execution_count": 4,
   "metadata": {
    "collapsed": false
   },
   "outputs": [],
   "source": [
    "'''gets the data'''\n",
    "from dataset import tweetProccess\n",
    "\n",
    "dataHandler = tweetProccess.FileTreat(None)\n",
    "\n",
    "content = dataHandler.getTweetsContent()\n",
    "\n"
   ]
  },
  {
   "cell_type": "code",
   "execution_count": 7,
   "metadata": {
    "collapsed": false
   },
   "outputs": [
    {
     "name": "stdout",
     "output_type": "stream",
     "text": [
      "['00', '000', '0jknsoc0dq', '10', '100', '11', '12', '13', '14', '15', '16', '17', '18', '19', '1st', '20', '200', '2015', '2016', '2017', '21', '22', '23', '24', '25', '2am', '2k', '30', '3vd97quk9y', '40', '50', '500', '5sos', '800', '99', '9cmw2cv1xu', '_6feetunderjbb_', '__i_wanna_die', '_depression99_', '_thismatters_', 'able', 'absolute', 'absolutely', 'abuse', 'accept', 'acceptance', 'account', 'accurate', 'accuratetext', 'achieve', 'act', 'acting', 'actions', 'active', 'acts', 'actual', 'actually', 'add', 'added', 'addicted', 'addiction', 'adidas_jerrie', 'admit', 'adorable', 'advice', 'aestheticvoices', 'af', 'afadingsmile', 'affect', 'affected', 'afford', 'afraid', 'againstsuicide', 'age', 'ago', 'agree', 'ahead', 'aint', 'al', 'alan1lila', 'album', 'alcohol', 'alive', 'allowed', 'alright', 'als', 'amazing', 'america', 'american', 'amp', 'ana', 'ana_take_me', 'anendtosuicide', 'angeiic_bones', 'angel', 'angels', 'anger', 'angry', 'animals', 'annoy', 'annoying', 'anorexia', 'answer', 'anti', 'anxiety', 'anxiety_b', 'anxietygirlxo', 'anxietyhelp369', 'anxious', 'anybody', 'anymore', 'anyways', 'aoki', 'apart', 'apologize', 'app', 'apparently', 'apple', 'appreciate', 'aren', 'arent', 'arm', 'arms', 'art', 'artist', 'ashamed', 'ask', 'asked', 'asking', 'asks', 'asleep', 'ass', 'asshole', 'assume', 'ate', 'atm', 'attached', 'attack', 'attacks', 'attempt', 'attention', 'attitude', 'attractive', 'automatically', 'available', 'avoid', 'avrillavigne', 'aw', 'awake', 'award', 'awareness', 'away', 'awesome', 'awful', 'awkward', 'aww', 'babe', 'babes', 'baby', 'bad', 'badly', 'bae', 'band', 'bands', 'bank', 'barely', 'based', 'basically', 'bathroom', 'battle', 'battles', 'bblogrt', 'bc', 'beach', 'beamiller', 'beat', 'beaut1fulchaos_', 'beautiful', 'beauty', 'bed', 'begging', 'begin', 'beginning', 'believe', 'bellletstalk', 'belong', 'ben', 'benefits', 'best', 'bestfriend', 'bet', 'better', 'beyondbrokendep', 'beyondxdarkness', 'bf', 'big', 'bigger', 'biggest', 'binge', 'bio', 'bipolar', 'bir', 'birthday', 'bit', 'bitch', 'bitches', 'black', 'blacktigersnep', 'blade', 'blades', 'blame', 'bleed', 'bleeding', 'bless', 'blessed', 'block', 'blog', 'blood', 'bloody', 'blow', 'blue', 'blxckdemonx', 'blxcknicotine', 'body', 'bodyacceptance', 'bodyacceptance1', 'bones', 'bonespo', 'book', 'books', 'bored', 'boring', 'born', 'bother', 'bottle', 'bought', 'bout', 'boy', 'boyfriend', 'boys', 'bpd', 'brain', 'brave', 'break', 'breakdown', 'breakfast', 'breaking', 'breaks', 'breath', 'breathe', 'breathing', 'breeding', 'bring', 'brings', 'bro', 'broke', 'broken', 'brokenhomelover', 'brokensoul_12', 'brother', 'brought', 'brxkenposts', 'bryanstars', 'bts', 'bts_twt', 'btsforvmas', 'btw', 'buddhism', 'buddhist', 'buddy', 'build', 'bullshit', 'bullying', 'burden', 'burn', 'burned', 'burning', 'bus', 'business', 'busy', 'butterfly', 'buy', 'bye', 'cake', 'called', 'calling', 'calls', 'calm', 'calories', 'cals', 'came', 'cameron', 'camerondallas', 'cancer', 'car', 'care', 'cared', 'careful', 'cares', 'caring', 'case', 'cat', 'catch', 'caught', 'cause', 'cchgdwkebw', 'certain', 'challenge', 'chance', 'chances', 'change', 'changed', 'changes', 'changing', 'channel', 'chapter', 'character', 'characters', 'chasehappyness', 'chat', 'check', 'checked', 'checking', 'chest', 'chester', 'child', 'children', 'chill', 'chillin', 'chillout', 'chocolate', 'choice', 'choose', 'christmas', 'city', 'class', 'clean', 'cleanandsober', 'clear', 'clearly', 'click', 'clingy', 'close', 'closer', 'clothes', 'code', 'coffee', 'coiiegestruggie', 'cold', 'college', 'color', 'come', 'comes', 'comfort', 'comfortable', 'coming', 'comments', 'commit', 'community', 'como', 'company', 'compensation', 'complete', 'completely', 'concert', 'confidence', 'confident', 'confused', 'congrats', 'consider', 'constant', 'constantly', 'contact', 'content', 'continue', 'control', 'conversation', 'conversations', 'convince', 'cool', 'cope', 'cos', 'count', 'country', 'couple', 'courage', 'course', 'cover', 'cq', 'cr0sstheline', 'crap', 'crave', 'crazy', 'create', 'created', 'cried', 'cries', 'crisis', 'cross', 'crossxtheline', 'cruel', 'crush', 'crying', 'cuando', 'cuddle', 'cunt', 'curious', 'current', 'currently', 'customtattoos_', 'cut', 'cut_wrists', 'cute', 'cutest', 'cutmysadness_', 'cuts', 'cutsandslits', 'cutting', 'cuttingquote', 'cuz', 'cx72cqzhm9', 'da', 'dad', 'daddy', 'daddydomsexual', 'daily', 'dailypsychologq', 'damn', 'damnfeelings', 'damnrealposts', 'dan', 'dance', 'dancing', 'dangerous', 'dare', 'dark', 'darkness', 'darkpagansoul', 'darling', 'dat', 'date', 'dates', 'dating', 'day', 'days', 'ddlovato', 'dead', 'deal', 'dealing', 'dear', 'death', 'decide', 'decided', 'decision', 'decisions', 'deefizzy', 'deep', 'deeper', 'deeply', 'define', 'definitely', 'delete', 'demi', 'demons', 'depends', 'depressed', 'depressing', 'depression', 'depressionarmy', 'depressionisme3', 'depressionnote', 'deprxssed_99', 'depths', 'deserve', 'deserved', 'deserves', 'design', 'desiree_dioni', 'destiny_danc', 'destinynews_net', 'destroy', 'destroyed', 'devil', 'dick', 'did', 'didn', 'didnt', 'die', 'died', 'diet', 'difference', 'different', 'differently', 'difficult', 'dinner', 'direction', 'dirty', 'disappear', 'disappointed', 'disappointment', 'disease', 'disgusting', 'disintegrxting', 'dismiss', 'disorder', 'disorders', 'distance', 'distant', 'distributed', 'dm', 'dms', 'dmsolosdaily', 'doctor', 'doctors', 'does', 'doesn', 'doesnt', 'dog', 'dogs', 'doing', 'don', 'donate', 'donated', 'donnaavril', 'dont', 'door', 'doubt', 'download', 'drained', 'drama', 'dream', 'dreams', 'dress', 'drink', 'drinking', 'drive', 'driving', 'drop', 'dropped', 'drown', 'drowning', 'drug', 'drugs', 'drunk', 'dude', 'dumb', 'dxmn_ugly', 'dying', 'early', 'earth', 'easier', 'easily', 'easy', 'eat', 'eaten', 'eating', 'eats', 'ebook', 'ed', 'edge', 'edproblems', 'eds', 'education', 'een', 'effort', 'el', 'elses', 'em', 'email', 'embarrassing', 'emotion', 'emotionaiwreck', 'emotional', 'emotionally', 'emotions', 'emptiness', 'en', 'end', 'ended', 'ending', 'endless', 'ends', 'endthestigma', 'energy', 'enjoy', 'entire', 'entreproapp', 'er', 'es', 'escape', 'especially', 'esteem', 'eu', 'eventually', 'everybody', 'everyday', 'everyones', 'everythings', 'everytime', 'ew', 'ex', 'exactly', 'exam', 'exams', 'exceptional', 'excited', 'excuse', 'exercise', 'exhausted', 'exhausting', 'exist', 'existence', 'expect', 'expected', 'experience', 'experiences', 'explain', 'express', 'expressingmeee', 'extra', 'extremely', 'eye', 'eyes', 'faaerie', 'face', 'facebook', 'fact', 'factsofschool', 'fade', 'fail', 'failed', 'failing', 'failure', 'fair', 'faith', 'fake', 'faking', 'fall', 'falling', 'family', 'fan', 'fans', 'far', 'fast', 'fasting', 'fat', 'father', 'fatter', 'fault', 'fav', 'favorite', 'favourite', 'fear', 'feat', 'featured', 'fed', 'feel', 'feeling', 'feelings', 'feels', 'fell', 'felt', 'femaletexts', 'ffs', 'fight', 'fighting', 'figure', 'filled', 'film', 'final', 'finally', 'finding', 'fine', 'finish', 'finished', 'fit', 'fitness', 'fix', 'flaws', 'flirtynotes', 'floor', 'flowers', 'flx7gssfvn', 'fly', 'fml', 'focus', 'follow', 'followed', 'follower', 'followers', 'following', 'food', 'fool', 'force', 'forever', 'forevr_drowning', 'forget', 'forgive', 'forgot', 'forgotten', 'form', 'forward', 'fragile_broken_', 'freaking', 'freddyamazin', 'free', 'freedom', 'friday', 'friend', 'friends', 'friendship', 'friendships', 'frxgilesouljpg', 'ft', 'fuck', 'fucked', 'fuckin', 'fucking', 'fucks', 'fully', 'fun', 'fund', 'funny', 'future', 'gain', 'gained', 'gaining', 'galzm787wq', 'game', 'games', 'gave', 'gaveupalready', 'gay', 'gemcals', 'genuinely', 'gets', 'getting', 'ghetto', 'gift', 'girl', 'girlfriend', 'girls', 'girlskissglrls', 'giveaway', 'given', 'giver', 'gives', 'giving', 'glad', 'glass', 'glofui', 'goal', 'goals', 'god', 'gods', 'goes', 'gofundme', 'going', 'gone', 'gonna', 'good', 'goodbye', 'goodnight', 'gorgeous', 'gosh', 'got', 'gotta', 'gotten', 'grab', 'grades', 'grateful', 'great', 'greatest', 'gross', 'ground', 'group', 'grow', 'growing', 'gt', 'guess', 'guilty', 'gun', 'guy', 'guys', 'gym', 'gytxczfl6l', 'ha', 'habits', 'haha', 'hahaha', 'hair', 'half', 'halloween', 'hand', 'handle', 'hands', 'hang', 'hanging', 'happen', 'happened', 'happening', 'happens', 'happier', 'happiest', 'happiness', 'happy', 'hard', 'harder', 'hardest', 'harm', 'harry', 'harry_styles', 'hate', 'hated', 'hates', 'hating', 'havent', 'having', 'hayesgrier', 'head', 'heal', 'health', 'healthy', 'hear', 'heard', 'hearing', 'heart', 'heartbreak', 'heartless', 'hearts', 'heaven', 'heavy', 'held', 'hell', 'hello', 'help', 'helped', 'helping', 'helps', 'heres', 'hero', 'hes', 'hesnewchapter', 'het', 'hey', 'hi', 'hide', 'hiding', 'high', 'history', 'hit', 'hits', 'hitting', 'hold', 'holding', 'hole', 'holiday', 'hollowaymusicuk', 'holy', 'home', 'homework', 'honest', 'honestly', 'honey', 'hope', 'hopefully', 'hopeless', 'hoping', 'horrible', 'hospital', 'hot', 'hour', 'hours', 'house', 'ht', 'htt', 'http', 'http_unloved', 'https', 'hug', 'huge', 'hugs', 'human', 'humans', 'hun', 'hungry', 'hurricane', 'hurt', 'hurting', 'hurts', 'husband', 'i_amstruggling', 'i_knowstuff', 'i_need_meds', 'iamscottpage', 'iamsteveaustin', 'ice', 'ich', 'id', 'idc', 'idea', 'ideas', 'idek', 'idiot', 'idk', 'ignore', 'ignored', 'ignoring', 'ihq', 'ik', 'ill', 'illness', 'illnesses', 'ily', 'im', 'image', 'imagine', 'imperfectkid', 'important', 'impossible', 'incredible', 'indiemusic', 'indiemusiclive', 'insane', 'insanity', 'insecure', 'inside', 'inspiration', 'instagram', 'instead', 'interested', 'internet', 'interview', 'invisible', 'iphone', 'isn', 'isnt', 'issue', 'issues', 'itll', 'itunes', 'ive', 'ixamxdepressed', 'için', 'jack', 'jack_septic_eye', 'jan', 'je', 'jealous', 'jenner', 'jesus', 'job', 'join', 'joke', 'jokes', 'journey', 'joy', 'jrazwhiteshark', 'judge', 'jump', 'just', 'just_killmenow_', 'justin', 'justinbieber', 'keeping', 'keeps', 'kept', 'key', 'kid', 'kidding', 'kids', 'kik', 'kill', 'killed', 'killer', 'killing', 'kills', 'kind', 'kinda', 'kindness', 'king', 'kiss', 'kissing', 'knew', 'knife', 'know', 'knowing', 'known', 'knows', 'kyle', 'kylespratt', 'kylie', 'la', 'lack', 'las', 'late', 'lately', 'later', 'latest', 'laugh', 'laughing', 'lay', 'laying', 'lazy', 'le', 'lead', 'learn', 'learned', 'learning', 'leave', 'leaves', 'leaving', 'leblunt420', 'left', 'leg', 'legit', 'legs', 'let', 'lets', 'lets_stop_here', 'letschat_mh', 'letter', 'letting', 'level', 'levels', 'lie', 'lied', 'lies', 'life', 'lifelnwords', 'lifes', 'light', 'like', 'liked', 'likes', 'lil', 'lindashepherd', 'line', 'link', 'lips', 'list', 'listen', 'listening', 'literally', 'little', 'live', 'liveme', 'lives', 'living', 'll', 'lmao', 'lmlosingmyself', 'lo', 'lol', 'london', 'loneliness', 'lonely', 'loneoutlawstar7', 'long', 'longer', 'look', 'looked', 'looking', 'looks', 'loose', 'lord', 'los', 'lose', 'losing', 'losingxhope', 'loss', 'lost', 'lot', 'lots', 'loud', 'louis', 'louis_tomlinson', 'love', 'loved', 'lovely', 'loves', 'loving', 'low', 'loyal', 'lt', 'luck', 'lucky', 'lunch', 'lying', 'lyrics', 'ma', 'maar', 'mad', 'main', 'make', 'makes', 'makeup', 'making', 'man', 'manchester', 'marcoolortegui', 'marigelpellin', 'mark', 'markiplier', 'marks', 'marriage', 'married', 'massive', 'match', 'matter', 'matters', 'maybe', 'meal', 'mean', 'meaning', 'means', 'meant', 'media', 'medication', 'meditate', 'meditation', 'meds', 'meet', 'melitalennoxx', 'memories', 'memory', 'men', 'mental', 'mentalhealth', 'mentalhealthawareness', 'mentalhealthmatters', 'mentalillness', 'mentally', 'mentalmovement', 'merry', 'mess', 'message', 'messages', 'messed', 'met', 'mexico', 'mhchat', 'mi', 'middle', 'miinxup', 'million', 'mind', 'mindful', 'mindfulness', 'minds', 'mins', 'minute', 'minutes', 'mirror', 'miserable', 'miss', 'missed', 'missing', 'mistake', 'mistakes', 'mom', 'moment', 'moments', 'monday', 'money', 'monster', 'month', 'months', 'mood', 'moon', 'morning', 'mother', 'motivation', 'mouth', 'moved', 'movie', 'movies', 'moving', 'mum', 'music', 'myexplodinghead', 'mymanfinnasd', 'myunwrittensoul', 'más', 'nap', 'natural', 'near', 'nearly', 'neck', 'need', 'needed', 'needs', 'negative', 'nervous', 'netflix', 'new', 'news', 'niallofficial', 'nice', 'niet', 'nigga', 'night', 'nightmare', 'nightmares', 'nights', 'noaisqueen', 'non', 'nope', 'normal', 'note', 'notice', 'noticed', 'notices', 'notifications', 'np', 'nuevos', 'numb', 'number', 'nxkfhk6yjh', 'obese', 'obsessed', 'obviously', 'od_janoskians', 'official', 'officially', 'oh', 'ohteenquotes', 'ok', 'okay', 'old', 'older', 'omfg', 'omg', 'ones', 'onikallah', 'online', 'open', 'opening', 'opinion', 'option', 'order', 'outside', 'overcoming', 'overthink', 'overthinking', 'page', 'pain', 'painful', 'panic', 'panicattacks', 'pants', 'paper', 'para', 'parent', 'parents', 'park', 'party', 'pass', 'passed', 'passionposts', 'past', 'path', 'pathetic', 'patheticutter', 'patience', 'patient', 'pay', 'peace', 'peaceful', 'people', 'peoples', 'perfect', 'perfection', 'perfectly', 'period', 'pero', 'person', 'personal', 'personality', 'personally', 'pgffxohj7z', 'phone', 'photo', 'photos', 'physical', 'physically', 'pic', 'pick', 'pics', 'picture', 'pictures', 'piece', 'pieces', 'pills', 'piloting', 'pinkfloyd', 'piss', 'pissed', 'pitifuii', 'pizza', 'place', 'places', 'plan', 'planet', 'plans', 'play', 'played', 'playing', 'playlist', 'pleasekillmexo', 'pls', 'plus', 'plz', 'pm', 'poem', 'poemporns', 'poemsporn', 'poetry', 'poetry_child', 'point', 'pointless', 'poor', 'por', 'posimh', 'positive', 'positiveminds__', 'positivity', 'possible', 'possibly', 'post', 'posted', 'posting', 'pounds', 'power', 'powerful', 'ppl', 'pray', 'prayers', 'praying', 'prefer', 'pregnant', 'present', 'president', 'pressure', 'pretend', 'pretending', 'pretty', 'prettyinthin', 'prevention', 'pride', 'princess', 'prison', 'probably', 'problem', 'problems', 'program', 'progress', 'projectbuddy', 'promise', 'promised', 'promises', 'protect', 'proud', 'prove', 'provided', 'psychiatric', 'psychologicai', 'psychology', 'ptsd', 'public', 'pull', 'punishment', 'purge', 'purpose', 'push', 'pushed', 'pushing', 'putting', 'que', 'queen', 'question', 'questions', 'quick', 'quickly', 'quiero', 'quiet', 'quit', 'quite', 'quote', 'quotes', 'race', 'rain', 'rainbows_vodka', 'raise', 'ran', 'random', 'rape', 'rapspotlights', 'razor', 'reach', 'read', 'reading', 'ready', 'readyforit', 'real', 'real_liam_payne', 'realdonaldtrump', 'realise', 'reality', 'realize', 'realized', 'really', 'reason', 'reasons', 'recent', 'recently', 'record', 'recover', 'recoveringxsoul', 'recovery', 'red', 'redlips97', 'reduce', 'refuse', 'regret', 'reiatabie', 'reivaxeht', 'relapse', 'relapsed', 'relatabiepoems', 'relate', 'relationship', 'relationships', 'relaxing', 'release', 'relief', 'relllationship', 'remain', 'remember', 'remind', 'reminder', 'repeat', 'replaced', 'reply', 'research', 'respect', 'respectyourself', 'rest', 'results', 'return', 'retweet', 'retweets', 'rich', 'rid', 'ride', 'right', 'rights', 'rip', 'risk', 'rn', 'road', 'rock', 'roll', 'romantic', 'room', 'rt', 'rts', 'rude', 'ruin', 'ruined', 'ruining', 'rules', 'run', 'running', 'sad', 'saddest', 'sadness', 'safe', 'sagittarius', 'said', 'sammieheals', 'saturday', 'save', 'saved', 'saving', 'saw', 'say', 'saying', 'saynotosuicide4', 'says', 'sazclose', 'scale', 'scared', 'scares', 'scarlettsmuse', 'scars', 'scary', 'school', 'scratchestocuts', 'scream', 'screaming', 'screw', 'se', 'sea', 'season', 'second', 'seconds', 'secret', 'secrets', 'seeing', 'seen', 'sees', 'seguidores', 'self', 'selfharm', 'selfie', 'selfish', 'semester', 'send', 'sending', 'sense', 'sensitive', 'sent', 'series', 'seriously', 'service', 'set', 'sex', 'sexual', 'sexualgif', 'shake', 'shaking', 'shall', 'shannonetaylor1', 'share', 'sharing', 'sharkgirl09', 'shatter_me_', 'shell', 'shes', 'shirt', 'shit', 'shitty', 'shoot', 'shopping', 'short', 'shot', 'shouldnt', 'shouldve', 'shout', 'shoutout', 'shower', 'showing', 'shows', 'shut', 'shy', 'shypixie76', 'si', 'sick', 'sigh', 'sign', 'signs', 'silence', 'silent', 'simple', 'simply', 'sin', 'sincerelytumblr', 'sing', 'single', 'sister', 'sit', 'sitting', 'situation', 'sixwordshort', 'size', 'skin', 'skinny', 'skinnydreamer01', 'skip', 'sky', 'sleep', 'sleeping', 'sleeve', 'slept', 'slow', 'slowly', 'small', 'smart', 'smile', 'smiles', 'smiling', 'smoke', 'smoking', 'snapchat', 'snowcalmth', 'sober', 'sobriety', 'social', 'society', 'solo', 'solutions', 'somebody', 'someday', 'someones', 'son', 'song', 'songs', 'soo', 'soon', 'sooo', 'sorry', 'sort', 'soul', 'sound', 'soundcloud', 'sounds', 'space', 'speak', 'special', 'spend', 'spending', 'spent', 'spratt', 'spread', 'spreading_l0ve', 'spring', 'staaark0', 'stage', 'stanatje', 'stand', 'standing', 'star', 'stare', 'staring', 'stars', 'start', 'started', 'starting', 'starts', 'starve', 'starving', 'state', 'stats', 'stay', 'stayed', 'staying', 'step', 'steve', 'stick', 'stigma', 'stomach', 'stone', 'stop', 'stopped', 'store', 'stories', 'storm', 'story', 'straight', 'strange', 'strangers', 'stream', 'strength', 'strengthinlove_', 'stress', 'stressed', 'stressful', 'stressing', 'strong', 'stronger', 'struggle', 'struggling', 'strugglingguy_', 'stuck', 'study', 'stuff', 'stupid', 'success', 'suck', 'sucks', 'sudden', 'suddenly', 'suffer', 'suffering', 'suicidal', 'suicidalenough', 'suicide', 'summer', 'sun', 'sunday', 'super', 'support', 'supporting', 'suppose', 'supposed', 'sure', 'surprise', 'surprised', 'surrounded', 'survive', 'swear', 'sweet', 'sweetie', 'swim', 'taken', 'takes', 'taking', 'talent', 'talk', 'talked', 'talking', 'talks', 'taste', 'tattoo', 'tattoos', 'taught', 'taylor', 'tbh', 'te', 'teach', 'teacher', 'teachers', 'team', 'tear', 'tears', 'tell', 'telling', 'tells', 'temporary', 'tend', 'terrible', 'terrified', 'test', 'testing', 'text', 'texting', 'texts', 'tf', 'th', 'thank', 'thankful', 'thanks', 'thanksgiving', 'thankyou', 'thats', 'thefemaleboook', 'thegirlganghq', 'therapy', 'theres', 'theyd', 'theyll', 'theyre', 'theyve', 'thighs', 'thing', 'things', 'think', 'thinking', 'thinks', 'thinspiration', 'thinspo', 'thintoxicating', 'tho', 'thomassanders', 'thought', 'thoughts', 'thousand', 'thousands', 'thread', 'threeadvocacies', 'throat', 'throw', 'tia', 'tickets', 'tight', 'till', 'time', 'times', 'tiny', 'tip', 'tips', 'tired', 'today', 'todayis', 'todays', 'todo', 'told', 'tomorrow', 'tonight', 'took', 'total', 'totally', 'touch', 'tough', 'tour', 'toxic', 'toxickatastroph', 'tpsnjofzp0', 'track', 'tracked', 'trailer', 'train', 'trash', 'travel', 'treat', 'treated', 'tried', 'tries', 'trigger', 'triggered', 'triggering', 'triggers', 'trip', 'tropical_nash97', 'trouble', 'true', 'truly', 'trump', 'trust', 'truth', 'try', 'trying', 'tryna', 'tu', 'tuesday', 'tuitutil', 'tumblr', 'tunecore', 'turkish', 'turn', 'turned', 'turning', 'turns', 'tv', 'tweet', 'tweeting', 'tweets', 'twice', 'twitter', 'type', 'ugh', 'ugly', 'uk', 'una', 'understand', 'understands', 'understood', 'unfollowed', 'unfollowers', 'unfortunately', 'unhappy', 'uni', 'universe', 'unless', 'unwanted', 'update', 'upset', 'ur', 'urge', 'urges', 'use', 'used', 'useless', 'using', 'usual', 'usually', 'valid', 'value', 'van', 've', 'vida', 'video', 'videos', 'view', 'visit', 'vmas', 'vodka', 'voice', 'voices', 'vote', 'vs', 'vulnerable', 'wait', 'waiting', 'wake', 'waking', 'walk', 'walked', 'walking', 'wall', 'walls', 'wanna', 'want', 'wanted', 'wanting', 'wants', 'war', 'warm', 'warning', 'wasnt', 'waste', 'wasting', 'wat', 'watch', 'watched', 'watching', 'water', 'way', 'ways', 'weak', 'wear', 'wearereadyharry', 'wearing', 'weather', 'weed', 'week', 'weekend', 'weeks', 'weigh', 'weight', 'weird', 'welcome', 'wellnessnwander', 'went', 'werent', 'weve', 'whats', 'white', 'whos', 'whosryanneff', 'willing', 'win', 'winning', 'winter', 'wisdom', 'wish', 'wishing', 'woke', 'woman', 'women', 'won', 'wonder', 'wonderful', 'wondering', 'wont', 'word', 'words', 'work', 'worked', 'working', 'workout', 'works', 'world', 'worried', 'worries', 'worry', 'worrying', 'worse', 'worst', 'worth', 'worthless', 'worthlesspale', 'wouldnt', 'wounds', 'wow', 'wrists', 'write', 'writing', 'written', 'wrong', 'wrote', 'wtf', 'xbox', 'xd', 'xo', 'xx', 'xxx', 'ya', 'yall', 'yankees', 'yay', 'yeah', 'year', 'years', 'yep', 'yes', 'yesterday', 'yo', 'yoga', 'youd', 'youll', 'young', 'youre', 'youtube', 'youve', 'yup', 'zayn', 'zen', 'zero']\n"
     ]
    }
   ],
   "source": [
    "'''create a matrix of words'''\n",
    "from sklearn.feature_extraction.text import CountVectorizer\n",
    "\n",
    "no_features = 2000\n",
    "\n",
    "# LDA can only use raw term counts for LDA because it is a probabilistic graphical model\n",
    "tf_vectorizer = CountVectorizer(max_df=0.95, min_df=2, max_features=no_features, stop_words='english')\n",
    "tf = tf_vectorizer.fit_transform(content)\n",
    "tf_feature_names = tf_vectorizer.get_feature_names()\n",
    "\n",
    "#print(tf_feature_names)"
   ]
  },
  {
   "cell_type": "code",
   "execution_count": 14,
   "metadata": {
    "collapsed": false
   },
   "outputs": [
    {
     "name": "stderr",
     "output_type": "stream",
     "text": [
      "/home/yuri/anaconda3/lib/python3.5/site-packages/sklearn/decomposition/online_lda.py:294: DeprecationWarning: n_topics has been renamed to n_components in version 0.19 and will be removed in 0.21\n",
      "  DeprecationWarning)\n"
     ]
    }
   ],
   "source": [
    "'''searches for the no_topics topics'''\n",
    "\n",
    "from sklearn.decomposition import NMF, LatentDirichletAllocation\n",
    "no_topics = 10\n",
    "\n",
    "lda = LatentDirichletAllocation(doc_topic_prior = 0.2, n_topics=no_topics, max_iter=5, learning_method='online', learning_offset=50.,random_state=0).fit(tf)"
   ]
  },
  {
   "cell_type": "code",
   "execution_count": 15,
   "metadata": {
    "collapsed": false
   },
   "outputs": [
    {
     "name": "stdout",
     "output_type": "stream",
     "text": [
      "Topic 0:\n",
      "ive wearereadyharry depression avrillavigne donnaavril loved dmsolosdaily ones ik started\n",
      "Topic 1:\n",
      "http rt know really time right say ill thing miss\n",
      "Topic 2:\n",
      "like youre fucking shit feeling night god guys real said\n",
      "Topic 3:\n",
      "feel rt going today stay world try follow home deserve\n",
      "Topic 4:\n",
      "rt think happy anymore let stop got did live sleep\n",
      "Topic 5:\n",
      "im just love rt life fuck care way sad tell\n",
      "Topic 6:\n",
      "dont want wish rt die friends things actually year didnt\n",
      "Topic 7:\n",
      "https rt anxiety reason looking story mentalhealth fake selfharm open\n",
      "Topic 8:\n",
      "people need rt make thank talk best away bad look\n",
      "Topic 9:\n",
      "day hate good rt okay help school strong self maybe\n"
     ]
    }
   ],
   "source": [
    "def display_topics(model, feature_names, no_top_words):\n",
    "    for topic_idx, topic in enumerate(model.components_):\n",
    "        print(\"Topic %d:\" % (topic_idx))\n",
    "        print (\" \".join([feature_names[i]\n",
    "                        for i in topic.argsort()[:-no_top_words - 1:-1]]))\n",
    "\n",
    "no_top_words = 10\n",
    "display_topics(lda, tf_feature_names, no_top_words)"
   ]
  },
  {
   "cell_type": "code",
   "execution_count": null,
   "metadata": {
    "collapsed": true
   },
   "outputs": [],
   "source": []
  }
 ],
 "metadata": {
  "anaconda-cloud": {},
  "kernelspec": {
   "display_name": "Python [default]",
   "language": "python",
   "name": "python3"
  },
  "language_info": {
   "codemirror_mode": {
    "name": "ipython",
    "version": 3
   },
   "file_extension": ".py",
   "mimetype": "text/x-python",
   "name": "python",
   "nbconvert_exporter": "python",
   "pygments_lexer": "ipython3",
   "version": "3.5.2"
  }
 },
 "nbformat": 4,
 "nbformat_minor": 1
}
