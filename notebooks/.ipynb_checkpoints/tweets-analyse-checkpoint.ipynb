{
 "cells": [
  {
   "cell_type": "code",
   "execution_count": 3,
   "metadata": {
    "collapsed": false
   },
   "outputs": [],
   "source": [
    "from dataset import tweetProccess\n",
    "import nltk, re\n",
    "\n",
    "'''gets the data'''\n",
    "dataHandler = tweetProccess.FileTreat()\n",
    "content = dataHandler.getTweets()\n",
    "\n",
    "\n",
    "'''Use to download nltk content'''\n",
    "#nltk.download()\n",
    "\n",
    "'''defining a function to remove numbers'''\n",
    "def tokenize(text):\n",
    "    tokenized = []\n",
    "    for word in nltk.word_tokenize(text):\n",
    "        if re.search('[a-zA-Z]', text):\n",
    "            tokenized.append(word.lower())\n",
    "            \n",
    "    return tokenized\n",
    "    "
   ]
  },
  {
   "cell_type": "code",
   "execution_count": 4,
   "metadata": {
    "collapsed": false
   },
   "outputs": [
    {
     "name": "stdout",
     "output_type": "stream",
     "text": [
      "(62458, 2000)\n"
     ]
    }
   ],
   "source": [
    "'''create a matrix of words'''\n",
    "from sklearn.feature_extraction.text import CountVectorizer\n",
    "\n",
    "no_features = 2000\n",
    "\n",
    "# LDA can only use raw term counts for LDA because it is a probabilistic graphical model\n",
    "tf_vectorizer = CountVectorizer(tokenizer=tokenize, max_df=0.95, min_df=2, max_features=no_features, stop_words='english')\n",
    "tf = tf_vectorizer.fit_transform(content)\n",
    "tf_feature_names = tf_vectorizer.get_feature_names()\n",
    "\n",
    "print(tf.shape)"
   ]
  },
  {
   "cell_type": "code",
   "execution_count": 5,
   "metadata": {
    "collapsed": false
   },
   "outputs": [
    {
     "name": "stdout",
     "output_type": "stream",
     "text": [
      "62458\n",
      "  (0, 231)\t1\n",
      "  (0, 637)\t1\n",
      "  (0, 997)\t1\n",
      "  (0, 1174)\t1\n",
      "  (0, 77)\t1\n",
      "  (0, 81)\t1\n",
      "  (0, 1429)\t1\n",
      "  (1, 868)\t1\n",
      "  (1, 15)\t1\n",
      "  (1, 485)\t1\n",
      "  (1, 486)\t1\n",
      "  (1, 77)\t2\n",
      "  (1, 81)\t1\n",
      "  (1, 1429)\t1\n",
      "  (2, 1837)\t1\n",
      "  (2, 77)\t1\n",
      "  (2, 81)\t1\n",
      "  (2, 1429)\t1\n",
      "  (3, 1597)\t1\n",
      "  (3, 1380)\t1\n",
      "  (3, 1050)\t1\n",
      "  (3, 1000)\t1\n",
      "  (3, 1381)\t1\n",
      "  (3, 1132)\t1\n",
      "  (3, 1699)\t1\n",
      "  :\t:\n",
      "  (62455, 17)\t1\n",
      "  (62455, 977)\t1\n",
      "  (62455, 1781)\t1\n",
      "  (62455, 1067)\t2\n",
      "  (62455, 15)\t2\n",
      "  (62455, 77)\t1\n",
      "  (62455, 81)\t1\n",
      "  (62455, 1429)\t1\n",
      "  (62456, 1236)\t1\n",
      "  (62456, 477)\t1\n",
      "  (62456, 356)\t1\n",
      "  (62456, 874)\t1\n",
      "  (62456, 1422)\t1\n",
      "  (62456, 228)\t1\n",
      "  (62456, 1164)\t1\n",
      "  (62456, 1690)\t1\n",
      "  (62456, 15)\t5\n",
      "  (62457, 1427)\t1\n",
      "  (62457, 104)\t1\n",
      "  (62457, 1662)\t1\n",
      "  (62457, 952)\t1\n",
      "  (62457, 868)\t1\n",
      "  (62457, 77)\t2\n",
      "  (62457, 81)\t1\n",
      "  (62457, 1429)\t1\n",
      "2000\n"
     ]
    }
   ],
   "source": [
    "print(len(content))\n",
    "print(tf)\n",
    "#print(tf[62457])\n",
    "print(len(tf_feature_names))\n",
    "#pq n_samples esta sempre zerado?"
   ]
  },
  {
   "cell_type": "code",
   "execution_count": 6,
   "metadata": {
    "collapsed": false
   },
   "outputs": [
    {
     "name": "stderr",
     "output_type": "stream",
     "text": [
      "/home/yuri/anaconda3/lib/python3.5/site-packages/sklearn/decomposition/online_lda.py:294: DeprecationWarning: n_topics has been renamed to n_components in version 0.19 and will be removed in 0.21\n",
      "  DeprecationWarning)\n"
     ]
    }
   ],
   "source": [
    "'''searches for the no_topics topics'''\n",
    "\n",
    "from sklearn.decomposition import LatentDirichletAllocation\n",
    "no_topics = 10\n",
    "\n",
    "lda = LatentDirichletAllocation(n_topics=no_topics, max_iter=5, learning_method='online', learning_offset=50.,random_state=0).fit(tf)"
   ]
  },
  {
   "cell_type": "code",
   "execution_count": 7,
   "metadata": {
    "collapsed": false
   },
   "outputs": [
    {
     "name": "stdout",
     "output_type": "stream",
     "text": [
      "Topic 0:\n",
      "! @ ; & ) amp ( , thank school\n",
      "Topic 1:\n",
      ", . life need ’ happy today got ” “\n",
      "Topic 2:\n",
      ". , dont like know ... feel love people think\n",
      "Topic 3:\n",
      "@ . help new - world ? great video real\n",
      "Topic 4:\n",
      "# : https wearereadyharry loved hope selfharm depression thinspo program\n",
      "Topic 5:\n",
      "? just , u right anymore na let ill wan\n",
      "Topic 6:\n",
      ": @ rt https http line cross cr0sstheline cuttingquote important\n",
      "Topic 7:\n",
      "im . fucking hate fuck ... ive stop going shit\n",
      "Topic 8:\n",
      ", . anxiety depression mental god … music depressed feelings\n",
      "Topic 9:\n",
      ". want just , wish sad time die friends fat\n"
     ]
    }
   ],
   "source": [
    "def display_topics(model, feature_names, no_top_words):\n",
    "    for topic_idx, topic in enumerate(model.components_):\n",
    "        print(\"Topic %d:\" % (topic_idx))\n",
    "        print (\" \".join([feature_names[i]\n",
    "                        for i in topic.argsort()[:-no_top_words - 1:-1]]))\n",
    "\n",
    "no_top_words = 10\n",
    "display_topics(lda, tf_feature_names, no_top_words)"
   ]
  },
  {
   "cell_type": "code",
   "execution_count": 8,
   "metadata": {
    "collapsed": true
   },
   "outputs": [],
   "source": [
    "#from sklearn.metrics.pairwise import cosine_similarity\n",
    "#dist = 1 - cosine_similarity(tf)\n",
    "\n",
    "#print(dist)"
   ]
  },
  {
   "cell_type": "code",
   "execution_count": null,
   "metadata": {
    "collapsed": true
   },
   "outputs": [],
   "source": []
  }
 ],
 "metadata": {
  "anaconda-cloud": {},
  "kernelspec": {
   "display_name": "Python [default]",
   "language": "python",
   "name": "python3"
  },
  "language_info": {
   "codemirror_mode": {
    "name": "ipython",
    "version": 3
   },
   "file_extension": ".py",
   "mimetype": "text/x-python",
   "name": "python",
   "nbconvert_exporter": "python",
   "pygments_lexer": "ipython3",
   "version": "3.5.2"
  }
 },
 "nbformat": 4,
 "nbformat_minor": 1
}
