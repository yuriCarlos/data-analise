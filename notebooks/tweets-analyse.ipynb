{
 "cells": [
  {
   "cell_type": "code",
   "execution_count": 8,
   "metadata": {
    "collapsed": false
   },
   "outputs": [],
   "source": [
    "from dataset import tweetProccess\n",
    "from nltk.tag import pos_tag\n",
    "from nltk.tokenize import word_tokenize\n",
    "import nltk, re\n",
    "from sklearn.feature_extraction.text import CountVectorizer\n",
    "from sklearn.decomposition import LatentDirichletAllocation\n",
    "from nltk.sentiment.vader import SentimentIntensityAnalyzer as si\n",
    "\n",
    "\n",
    "'''gets the data'''\n",
    "dataHandler = tweetProccess.FileTreat()\n",
    "content = dataHandler.getTweets()\n",
    "\n",
    "no_features = 2000\n",
    "\n",
    "\n",
    "#Use to download nltk content\n",
    "#nltk.download()\n",
    "\n",
    "'''defining a function to remove numbers'''\n",
    "def tokenize(text):\n",
    "    tokenized = []\n",
    "    for word in nltk.word_tokenize(text):\n",
    "        if re.search('[a-zA-Z]', word):\n",
    "            tokenized.append(word.lower())\n",
    "            \n",
    "    return tokenized\n",
    "\n",
    "'''defining a function to tokenize and get only vebs and adjectivies'''\n",
    "def tokenizeStructures(text):\n",
    "    #gets the type of each word in the text\n",
    "    tags = pos_tag(word_tokenize(text))\n",
    "    \n",
    "    interesting = []\n",
    "    for tag in tags:\n",
    "        #removes tweet links\n",
    "        if re.search('t.co+', tag[0]):\n",
    "            continue\n",
    "        \n",
    "        if (tag[1] == 'VERB' or tag[1] == 'JJ') and len(tag[0]) > 2:\n",
    "            interesting.append(tag[0])\n",
    "    \n",
    "    return interesting\n",
    "\n",
    "def getLda(dataFrame, no_clusters):\n",
    "    ldas = []\n",
    "    no_topics = 3\n",
    "    \n",
    "    #for each cluster\n",
    "    print(no_clusters)\n",
    "    for cluster in range(no_clusters):\n",
    "        print('cluster: ' + str(cluster))\n",
    "        \n",
    "        lda = LatentDirichletAllocation(n_components=no_topics, max_iter=5, learning_method='online', learning_offset=50.,random_state=0)\n",
    "        tf_vectorizer = CountVectorizer(tokenizer=tokenizeStructures, max_features=no_features, stop_words='english')\n",
    "        \n",
    "        #get text of tweets from this cluster\n",
    "        texts = dataFrame['text'][cluster].values\n",
    "        \n",
    "        #creates a tf matrix for this cluster\n",
    "        tf = tf_vectorizer.fit_transform(texts)\n",
    "        \n",
    "        #get feature names for this matrix\n",
    "        tf_feature_names = tf_vectorizer.get_feature_names()\n",
    "        \n",
    "        #extract latent topics\n",
    "        ldas.append((cluster, lda.fit(tf), tf_feature_names))\n",
    "        \n",
    "    return ldas\n",
    "        \n",
    "def display_topics(model, feature_names, no_top_words):\n",
    "    for topic_idx, topic in enumerate(model.components_):\n",
    "        print(\"Topic %d:\" % (topic_idx))\n",
    "        print (\" \".join([feature_names[i]\n",
    "                        for i in topic.argsort()[:-no_top_words - 1:-1]]))\n",
    "\n",
    "\n",
    "def print_top_words(model, feature_names, n_top_words):\n",
    "    for topic_idx, topic in enumerate(model.components_):\n",
    "        message = \"Topic #%d: \" % topic_idx\n",
    "        message += \" \".join([feature_names[i]\n",
    "                             for i in topic.argsort()[:-n_top_words - 1:-1]])\n",
    "        print(message)\n",
    "        \n",
    "def get_neg_matrix(texts):\n",
    "    analyser = si()\n",
    "    vec = []\n",
    "    #print(texts)\n",
    "    for sentense in texts:\n",
    "        obj = analyser.polarity_scores(sentense)\n",
    "        #vec.append([analyser.polarity_scores(sentense)['neg']])\n",
    "        if(obj is not None):\n",
    "            vec.append([obj['neg'], obj['pos']])\n",
    "    return vec\n",
    "\n"
   ]
  },
  {
   "cell_type": "code",
   "execution_count": 10,
   "metadata": {
    "collapsed": false
   },
   "outputs": [
    {
     "name": "stdout",
     "output_type": "stream",
     "text": [
      "CPU times: user 1min, sys: 76 ms, total: 1min\n",
      "Wall time: 59.2 s\n"
     ]
    }
   ],
   "source": [
    "from sklearn.cluster import KMeans\n",
    "\n",
    "#generate the tf matrix\n",
    "#tf_vectorizer = CountVectorizer(tokenizer=tokenizeStructures, max_features=no_features, stop_words='english')\n",
    "#tf = tf_vectorizer.fit_transform(content)\n",
    "\n",
    "#gets the negative matrix\n",
    "\n",
    "#generates the clusters\n",
    "n_cluters = 3\n",
    "km = KMeans(n_clusters = n_cluters)\n",
    "#%time km.fit(tf)\n",
    "%time km.fit(get_neg_matrix(content))\n",
    "\n",
    "\n",
    "clusters = km.labels_.tolist()"
   ]
  },
  {
   "cell_type": "code",
   "execution_count": null,
   "metadata": {
    "collapsed": false
   },
   "outputs": [],
   "source": []
  },
  {
   "cell_type": "code",
   "execution_count": 11,
   "metadata": {
    "collapsed": false,
    "scrolled": true
   },
   "outputs": [
    {
     "name": "stdout",
     "output_type": "stream",
     "text": [
      "0    100624\n",
      "1     47407\n",
      "2     30003\n",
      "Name: cluster, dtype: int64\n",
      "3\n",
      "cluster: 0\n",
      "cluster: 1\n",
      "cluster: 2\n"
     ]
    }
   ],
   "source": [
    "import pandas as pd\n",
    "\n",
    "table = {'text': content, 'cluster': clusters, 'id': [idx for idx in range(len(content))]}\n",
    "\n",
    "dataframe = pd.DataFrame(table, index=[clusters], columns=['text', 'cluster', 'id'])\n",
    "\n",
    "#sizes of each cluster\n",
    "print(dataframe['cluster'].value_counts())\n",
    "\n",
    "#gets the latent topic of each cluster\n",
    "result = getLda(dataframe, n_cluters)"
   ]
  },
  {
   "cell_type": "code",
   "execution_count": 12,
   "metadata": {
    "collapsed": false,
    "scrolled": true
   },
   "outputs": [
    {
     "name": "stdout",
     "output_type": "stream",
     "text": [
      "cluster: 0\n",
      "Topic #0: little real mental big right white sure bad able ptsd\n",
      "Topic #1: ive dont hard old fat long happy different black high\n",
      "Topic #2: new good single social live mindful young free fucking second\n",
      "================================================\n",
      "cluster: 1\n",
      "Topic #0: happy good beautiful true ive dont awesome ready real cute\n",
      "Topic #1: free amazing important little wish alive hard bad positive wonderful\n",
      "Topic #2: great new strong perfect nice sure favorite proud easy dear\n",
      "================================================\n",
      "cluster: 2\n",
      "Topic #0: bad dead mental sick tired new fucking real fake old\n",
      "Topic #1: hard dont fuck little sorry suicidal pathetic social long horrible\n",
      "Topic #2: sad good wrong ive stupid happy ill fat shit broken\n",
      "================================================\n"
     ]
    }
   ],
   "source": [
    "no_top_words = 10\n",
    "\n",
    "for cluster, lda, feature_names in result:\n",
    "    #print(len(lda.components_[0]))\n",
    "    if(len(feature_names) > 10):\n",
    "        \n",
    "        print(\"cluster: \" + str(cluster))\n",
    "        print_top_words(lda, feature_names, 10)\n",
    "        print('================================================')"
   ]
  },
  {
   "cell_type": "code",
   "execution_count": 13,
   "metadata": {
    "collapsed": false
   },
   "outputs": [],
   "source": [
    "#print(enumerate(result[3][1].components_))"
   ]
  },
  {
   "cell_type": "code",
   "execution_count": 14,
   "metadata": {
    "collapsed": false
   },
   "outputs": [
    {
     "data": {
      "text/html": [
       "<div>\n",
       "<style>\n",
       "    .dataframe thead tr:only-child th {\n",
       "        text-align: right;\n",
       "    }\n",
       "\n",
       "    .dataframe thead th {\n",
       "        text-align: left;\n",
       "    }\n",
       "\n",
       "    .dataframe tbody tr th {\n",
       "        vertical-align: top;\n",
       "    }\n",
       "</style>\n",
       "<table border=\"1\" class=\"dataframe\">\n",
       "  <thead>\n",
       "    <tr style=\"text-align: right;\">\n",
       "      <th></th>\n",
       "      <th>text</th>\n",
       "      <th>cluster</th>\n",
       "      <th>id</th>\n",
       "    </tr>\n",
       "  </thead>\n",
       "  <tbody>\n",
       "    <tr>\n",
       "      <th>0</th>\n",
       "      <td>I still stand by this. If youre having a shit ...</td>\n",
       "      <td>0</td>\n",
       "      <td>178029</td>\n",
       "    </tr>\n",
       "    <tr>\n",
       "      <th>0</th>\n",
       "      <td>RT @machinegunkelly: the news cant be true. iv...</td>\n",
       "      <td>0</td>\n",
       "      <td>178030</td>\n",
       "    </tr>\n",
       "    <tr>\n",
       "      <th>1</th>\n",
       "      <td>RT @machinegunkelly: love you Chester. love yo...</td>\n",
       "      <td>1</td>\n",
       "      <td>178031</td>\n",
       "    </tr>\n",
       "    <tr>\n",
       "      <th>1</th>\n",
       "      <td>Linkin Park was a huge part of my childhood. D...</td>\n",
       "      <td>1</td>\n",
       "      <td>178032</td>\n",
       "    </tr>\n",
       "    <tr>\n",
       "      <th>0</th>\n",
       "      <td>RT @That70sFans: can we just talk about how ro...</td>\n",
       "      <td>0</td>\n",
       "      <td>178033</td>\n",
       "    </tr>\n",
       "  </tbody>\n",
       "</table>\n",
       "</div>"
      ],
      "text/plain": [
       "                                                text  cluster      id\n",
       "0  I still stand by this. If youre having a shit ...        0  178029\n",
       "0  RT @machinegunkelly: the news cant be true. iv...        0  178030\n",
       "1  RT @machinegunkelly: love you Chester. love yo...        1  178031\n",
       "1  Linkin Park was a huge part of my childhood. D...        1  178032\n",
       "0  RT @That70sFans: can we just talk about how ro...        0  178033"
      ]
     },
     "execution_count": 14,
     "metadata": {},
     "output_type": "execute_result"
    }
   ],
   "source": [
    "dataframe.tail()"
   ]
  },
  {
   "cell_type": "code",
   "execution_count": 15,
   "metadata": {
    "collapsed": false,
    "scrolled": false
   },
   "outputs": [
    {
     "data": {
      "text/html": [
       "<div>\n",
       "<style>\n",
       "    .dataframe thead tr:only-child th {\n",
       "        text-align: right;\n",
       "    }\n",
       "\n",
       "    .dataframe thead th {\n",
       "        text-align: left;\n",
       "    }\n",
       "\n",
       "    .dataframe tbody tr th {\n",
       "        vertical-align: top;\n",
       "    }\n",
       "</style>\n",
       "<table border=\"1\" class=\"dataframe\">\n",
       "  <thead>\n",
       "    <tr style=\"text-align: right;\">\n",
       "      <th></th>\n",
       "      <th>text</th>\n",
       "      <th>cluster</th>\n",
       "      <th>id</th>\n",
       "    </tr>\n",
       "  </thead>\n",
       "  <tbody>\n",
       "    <tr>\n",
       "      <th>0</th>\n",
       "      <td>I still stand by this. If youre having a shit ...</td>\n",
       "      <td>0</td>\n",
       "      <td>178029</td>\n",
       "    </tr>\n",
       "    <tr>\n",
       "      <th>0</th>\n",
       "      <td>RT @machinegunkelly: the news cant be true. iv...</td>\n",
       "      <td>0</td>\n",
       "      <td>178030</td>\n",
       "    </tr>\n",
       "    <tr>\n",
       "      <th>1</th>\n",
       "      <td>RT @machinegunkelly: love you Chester. love yo...</td>\n",
       "      <td>1</td>\n",
       "      <td>178031</td>\n",
       "    </tr>\n",
       "    <tr>\n",
       "      <th>1</th>\n",
       "      <td>Linkin Park was a huge part of my childhood. D...</td>\n",
       "      <td>1</td>\n",
       "      <td>178032</td>\n",
       "    </tr>\n",
       "    <tr>\n",
       "      <th>0</th>\n",
       "      <td>RT @That70sFans: can we just talk about how ro...</td>\n",
       "      <td>0</td>\n",
       "      <td>178033</td>\n",
       "    </tr>\n",
       "  </tbody>\n",
       "</table>\n",
       "</div>"
      ],
      "text/plain": [
       "                                                text  cluster      id\n",
       "0  I still stand by this. If youre having a shit ...        0  178029\n",
       "0  RT @machinegunkelly: the news cant be true. iv...        0  178030\n",
       "1  RT @machinegunkelly: love you Chester. love yo...        1  178031\n",
       "1  Linkin Park was a huge part of my childhood. D...        1  178032\n",
       "0  RT @That70sFans: can we just talk about how ro...        0  178033"
      ]
     },
     "execution_count": 15,
     "metadata": {},
     "output_type": "execute_result"
    }
   ],
   "source": [
    "dataframe['cluster'].value_counts()\n",
    "dataframe.tail()\n"
   ]
  },
  {
   "cell_type": "code",
   "execution_count": null,
   "metadata": {
    "collapsed": false
   },
   "outputs": [],
   "source": []
  },
  {
   "cell_type": "code",
   "execution_count": null,
   "metadata": {
    "collapsed": false
   },
   "outputs": [],
   "source": []
  },
  {
   "cell_type": "code",
   "execution_count": null,
   "metadata": {
    "collapsed": false
   },
   "outputs": [],
   "source": []
  },
  {
   "cell_type": "code",
   "execution_count": null,
   "metadata": {
    "collapsed": false
   },
   "outputs": [],
   "source": []
  },
  {
   "cell_type": "code",
   "execution_count": null,
   "metadata": {
    "collapsed": false
   },
   "outputs": [],
   "source": []
  },
  {
   "cell_type": "code",
   "execution_count": 16,
   "metadata": {
    "collapsed": true
   },
   "outputs": [],
   "source": [
    "#from sklearn.metrics.pairwise import cosine_similarity\n",
    "#dist = 1 - cosine_similarity(tf)\n",
    "\n",
    "#print(dist)"
   ]
  }
 ],
 "metadata": {
  "anaconda-cloud": {},
  "kernelspec": {
   "display_name": "Python [default]",
   "language": "python",
   "name": "python3"
  },
  "language_info": {
   "codemirror_mode": {
    "name": "ipython",
    "version": 3
   },
   "file_extension": ".py",
   "mimetype": "text/x-python",
   "name": "python",
   "nbconvert_exporter": "python",
   "pygments_lexer": "ipython3",
   "version": "3.5.2"
  }
 },
 "nbformat": 4,
 "nbformat_minor": 1
}
