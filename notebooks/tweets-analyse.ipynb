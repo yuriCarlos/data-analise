{
 "cells": [
  {
   "cell_type": "code",
   "execution_count": 4,
   "metadata": {
    "collapsed": false
   },
   "outputs": [],
   "source": [
    "'''gets the data'''\n",
    "from dataset import tweetProccess\n",
    "\n",
    "dataHandler = tweetProccess.FileTreat(None)\n",
    "\n",
    "content = dataHandler.getTweetsContent()\n",
    "\n"
   ]
  },
  {
   "cell_type": "code",
   "execution_count": 16,
   "metadata": {
    "collapsed": false
   },
   "outputs": [],
   "source": [
    "'''create a matrix of words'''\n",
    "from sklearn.feature_extraction.text import CountVectorizer\n",
    "\n",
    "no_features = 2000\n",
    "\n",
    "# LDA can only use raw term counts for LDA because it is a probabilistic graphical model\n",
    "tf_vectorizer = CountVectorizer(max_df=0.95, min_df=2, max_features=no_features, stop_words='english')\n",
    "tf = tf_vectorizer.fit_transform(content)\n",
    "tf_feature_names = tf_vectorizer.get_feature_names()\n",
    "\n",
    "#print(tf_feature_names)"
   ]
  },
  {
   "cell_type": "code",
   "execution_count": 14,
   "metadata": {
    "collapsed": false
   },
   "outputs": [
    {
     "name": "stderr",
     "output_type": "stream",
     "text": [
      "/home/yuri/anaconda3/lib/python3.5/site-packages/sklearn/decomposition/online_lda.py:294: DeprecationWarning: n_topics has been renamed to n_components in version 0.19 and will be removed in 0.21\n",
      "  DeprecationWarning)\n"
     ]
    }
   ],
   "source": [
    "'''searches for the no_topics topics'''\n",
    "\n",
    "from sklearn.decomposition import NMF, LatentDirichletAllocation\n",
    "no_topics = 10\n",
    "\n",
    "lda = LatentDirichletAllocation(doc_topic_prior = 0.2, n_topics=no_topics, max_iter=5, learning_method='online', learning_offset=50.,random_state=0).fit(tf)"
   ]
  },
  {
   "cell_type": "code",
   "execution_count": 15,
   "metadata": {
    "collapsed": false
   },
   "outputs": [
    {
     "name": "stdout",
     "output_type": "stream",
     "text": [
      "Topic 0:\n",
      "ive wearereadyharry depression avrillavigne donnaavril loved dmsolosdaily ones ik started\n",
      "Topic 1:\n",
      "http rt know really time right say ill thing miss\n",
      "Topic 2:\n",
      "like youre fucking shit feeling night god guys real said\n",
      "Topic 3:\n",
      "feel rt going today stay world try follow home deserve\n",
      "Topic 4:\n",
      "rt think happy anymore let stop got did live sleep\n",
      "Topic 5:\n",
      "im just love rt life fuck care way sad tell\n",
      "Topic 6:\n",
      "dont want wish rt die friends things actually year didnt\n",
      "Topic 7:\n",
      "https rt anxiety reason looking story mentalhealth fake selfharm open\n",
      "Topic 8:\n",
      "people need rt make thank talk best away bad look\n",
      "Topic 9:\n",
      "day hate good rt okay help school strong self maybe\n"
     ]
    }
   ],
   "source": [
    "def display_topics(model, feature_names, no_top_words):\n",
    "    for topic_idx, topic in enumerate(model.components_):\n",
    "        print(\"Topic %d:\" % (topic_idx))\n",
    "        print (\" \".join([feature_names[i]\n",
    "                        for i in topic.argsort()[:-no_top_words - 1:-1]]))\n",
    "\n",
    "no_top_words = 10\n",
    "display_topics(lda, tf_feature_names, no_top_words)"
   ]
  },
  {
   "cell_type": "code",
   "execution_count": null,
   "metadata": {
    "collapsed": true
   },
   "outputs": [],
   "source": []
  }
 ],
 "metadata": {
  "anaconda-cloud": {},
  "kernelspec": {
   "display_name": "Python [default]",
   "language": "python",
   "name": "python3"
  },
  "language_info": {
   "codemirror_mode": {
    "name": "ipython",
    "version": 3
   },
   "file_extension": ".py",
   "mimetype": "text/x-python",
   "name": "python",
   "nbconvert_exporter": "python",
   "pygments_lexer": "ipython3",
   "version": "3.5.2"
  }
 },
 "nbformat": 4,
 "nbformat_minor": 1
}
