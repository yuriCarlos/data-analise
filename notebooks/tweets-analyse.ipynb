{
 "cells": [
  {
   "cell_type": "code",
   "execution_count": 1,
   "metadata": {
    "collapsed": false
   },
   "outputs": [],
   "source": [
    "from dataset import tweetProccess\n",
    "import nltk, re\n",
    "\n",
    "'''gets the data'''\n",
    "dataHandler = tweetProccess.FileTreat()\n",
    "content = dataHandler.getTweets()\n",
    "\n",
    "\n",
    "'''Use to download nltk content'''\n",
    "#nltk.download()\n",
    "\n",
    "'''defining a function to remove numbers'''\n",
    "def tokenize(text):\n",
    "    tokenized = []\n",
    "    for word in nltk.word_tokenize(text):\n",
    "        if re.search('[a-zA-Z]', text):\n",
    "            tokenized.append(word.lower())\n",
    "            \n",
    "    return tokenized\n",
    "    "
   ]
  },
  {
   "cell_type": "code",
   "execution_count": 2,
   "metadata": {
    "collapsed": false
   },
   "outputs": [
    {
     "name": "stdout",
     "output_type": "stream",
     "text": [
      "(178434, 2000)\n"
     ]
    }
   ],
   "source": [
    "'''create a matrix of words'''\n",
    "from sklearn.feature_extraction.text import CountVectorizer\n",
    "\n",
    "no_features = 2000\n",
    "\n",
    "# LDA can only use raw term counts for LDA because it is a probabilistic graphical model\n",
    "tf_vectorizer = CountVectorizer(tokenizer=tokenize, max_df=0.95, min_df=2, max_features=no_features, stop_words='english')\n",
    "tf = tf_vectorizer.fit_transform(content)\n",
    "tf_feature_names = tf_vectorizer.get_feature_names()\n",
    "\n",
    "print(tf.shape)"
   ]
  },
  {
   "cell_type": "code",
   "execution_count": 3,
   "metadata": {
    "collapsed": false
   },
   "outputs": [
    {
     "name": "stdout",
     "output_type": "stream",
     "text": [
      "178434\n",
      "  (0, 821)\t1\n",
      "  (0, 70)\t2\n",
      "  (0, 74)\t2\n",
      "  (0, 1421)\t1\n",
      "  (1, 752)\t1\n",
      "  (1, 1812)\t1\n",
      "  (1, 931)\t1\n",
      "  (1, 904)\t1\n",
      "  (2, 12)\t1\n",
      "  (2, 1579)\t1\n",
      "  (2, 1588)\t1\n",
      "  (2, 93)\t1\n",
      "  (2, 184)\t1\n",
      "  (2, 1426)\t1\n",
      "  (2, 675)\t1\n",
      "  (2, 451)\t2\n",
      "  (2, 8)\t1\n",
      "  (2, 1629)\t1\n",
      "  (2, 347)\t1\n",
      "  (2, 713)\t1\n",
      "  (2, 821)\t1\n",
      "  (2, 70)\t1\n",
      "  (3, 1044)\t1\n",
      "  (3, 113)\t1\n",
      "  (3, 1137)\t1\n",
      "  :\t:\n",
      "  (178431, 1692)\t1\n",
      "  (178431, 1764)\t1\n",
      "  (178431, 14)\t1\n",
      "  (178431, 937)\t1\n",
      "  (178431, 1132)\t1\n",
      "  (178431, 852)\t1\n",
      "  (178431, 1027)\t2\n",
      "  (178431, 12)\t2\n",
      "  (178431, 70)\t1\n",
      "  (178431, 74)\t1\n",
      "  (178431, 1421)\t1\n",
      "  (178432, 1413)\t1\n",
      "  (178432, 1226)\t1\n",
      "  (178432, 1681)\t1\n",
      "  (178432, 225)\t1\n",
      "  (178432, 1132)\t1\n",
      "  (178432, 827)\t1\n",
      "  (178432, 12)\t5\n",
      "  (178433, 92)\t1\n",
      "  (178433, 1652)\t1\n",
      "  (178433, 904)\t1\n",
      "  (178433, 821)\t1\n",
      "  (178433, 70)\t2\n",
      "  (178433, 74)\t1\n",
      "  (178433, 1421)\t1\n",
      "2000\n"
     ]
    }
   ],
   "source": [
    "print(len(content))\n",
    "print(tf)\n",
    "#print(tf[62457])\n",
    "print(len(tf_feature_names))\n",
    "#pq n_samples esta sempre zerado?"
   ]
  },
  {
   "cell_type": "code",
   "execution_count": null,
   "metadata": {
    "collapsed": false
   },
   "outputs": [
    {
     "name": "stderr",
     "output_type": "stream",
     "text": [
      "/home/yuri/anaconda3/lib/python3.5/site-packages/sklearn/decomposition/online_lda.py:294: DeprecationWarning: n_topics has been renamed to n_components in version 0.19 and will be removed in 0.21\n",
      "  DeprecationWarning)\n"
     ]
    }
   ],
   "source": [
    "'''searches for the no_topics topics'''\n",
    "\n",
    "from sklearn.decomposition import LatentDirichletAllocation\n",
    "no_topics = 10\n",
    "\n",
    "lda = LatentDirichletAllocation(n_topics=no_topics, max_iter=5, learning_method='online', learning_offset=50.,random_state=0).fit(tf)"
   ]
  },
  {
   "cell_type": "code",
   "execution_count": 7,
   "metadata": {
    "collapsed": false
   },
   "outputs": [
    {
     "name": "stdout",
     "output_type": "stream",
     "text": [
      "Topic 0:\n",
      "! @ ; & ) amp ( , thank school\n",
      "Topic 1:\n",
      ", . life need ’ happy today got ” “\n",
      "Topic 2:\n",
      ". , dont like know ... feel love people think\n",
      "Topic 3:\n",
      "@ . help new - world ? great video real\n",
      "Topic 4:\n",
      "# : https wearereadyharry loved hope selfharm depression thinspo program\n",
      "Topic 5:\n",
      "? just , u right anymore na let ill wan\n",
      "Topic 6:\n",
      ": @ rt https http line cross cr0sstheline cuttingquote important\n",
      "Topic 7:\n",
      "im . fucking hate fuck ... ive stop going shit\n",
      "Topic 8:\n",
      ", . anxiety depression mental god … music depressed feelings\n",
      "Topic 9:\n",
      ". want just , wish sad time die friends fat\n"
     ]
    }
   ],
   "source": [
    "def display_topics(model, feature_names, no_top_words):\n",
    "    for topic_idx, topic in enumerate(model.components_):\n",
    "        print(\"Topic %d:\" % (topic_idx))\n",
    "        print (\" \".join([feature_names[i]\n",
    "                        for i in topic.argsort()[:-no_top_words - 1:-1]]))\n",
    "\n",
    "no_top_words = 10\n",
    "display_topics(lda, tf_feature_names, no_top_words)"
   ]
  },
  {
   "cell_type": "code",
   "execution_count": 8,
   "metadata": {
    "collapsed": true
   },
   "outputs": [],
   "source": [
    "#from sklearn.metrics.pairwise import cosine_similarity\n",
    "#dist = 1 - cosine_similarity(tf)\n",
    "\n",
    "#print(dist)"
   ]
  },
  {
   "cell_type": "code",
   "execution_count": null,
   "metadata": {
    "collapsed": true
   },
   "outputs": [],
   "source": []
  }
 ],
 "metadata": {
  "anaconda-cloud": {},
  "kernelspec": {
   "display_name": "Python [default]",
   "language": "python",
   "name": "python3"
  },
  "language_info": {
   "codemirror_mode": {
    "name": "ipython",
    "version": 3
   },
   "file_extension": ".py",
   "mimetype": "text/x-python",
   "name": "python",
   "nbconvert_exporter": "python",
   "pygments_lexer": "ipython3",
   "version": "3.5.2"
  }
 },
 "nbformat": 4,
 "nbformat_minor": 1
}
