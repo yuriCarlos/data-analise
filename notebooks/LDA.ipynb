{
 "cells": [
  {
   "cell_type": "code",
   "execution_count": 3,
   "metadata": {
    "collapsed": false
   },
   "outputs": [
    {
     "name": "stdout",
     "output_type": "stream",
     "text": [
      "2\n"
     ]
    }
   ],
   "source": [
    "from dataset import tweetProccess\n",
    "from nltk.tag import pos_tag\n",
    "from nltk.tokenize import word_tokenize\n",
    "import nltk, re\n",
    "from sklearn.feature_extraction.text import CountVectorizer\n",
    "from sklearn.decomposition import LatentDirichletAllocation\n",
    "from nltk.sentiment.vader import SentimentIntensityAnalyzer as si\n",
    "\n",
    "\n",
    "'''gets the data'''\n",
    "dataHandler = tweetProccess.FileTreat()\n",
    "#content = dataHandler.getBadTweets()\n",
    "#content = (content, [-1 for i in range(len(content))])\n",
    "content = dataHandler.getAsDocument()\n",
    "print(len(content))\n",
    "\n",
    "no_features = 2000\n",
    "\n",
    "\n",
    "#Use to download nltk content\n",
    "#nltk.download()\n",
    "\n",
    "'''defining a function to remove numbers'''\n",
    "def tokenize(text):\n",
    "    tokenized = []\n",
    "    for word in nltk.word_tokenize(text):\n",
    "        if re.search('[a-zA-Z]', word):\n",
    "            tokenized.append(word.lower())\n",
    "            \n",
    "    return tokenized\n",
    "\n",
    "'''defining a function to tokenize and get only vebs and adjectivies'''\n",
    "def tokenizeStructures(text):\n",
    "    \n",
    "    #words = [nltk.corpus.words.words()]\n",
    "    #print(words[:3])\n",
    "    \n",
    "    #text = \" \".join(w for w in nltk.wordpunct_tokenize(words) if w.lower() in words)\n",
    "    #print(text)\n",
    "    \n",
    "    #gets the type of each word in the text\n",
    "    tags = pos_tag(word_tokenize(text))\n",
    "    \n",
    "    interesting = []\n",
    "    for tag in tags:\n",
    "        #removes tweet links\n",
    "        if re.search('t.co+', tag[0]):\n",
    "            continue\n",
    "        \n",
    "        if (tag[1] == 'VERB' or tag[1] == 'JJ') and len(tag[0]) > 2:\n",
    "            interesting.append(tag[0])\n",
    "    \n",
    "    return interesting\n",
    "\n",
    "def print_top_words(model, feature_names, n_top_words):\n",
    "    for topic_idx, topic in enumerate(model.components_):\n",
    "        message = \"Topic #%d: \" % topic_idx\n",
    "        message += \" \".join([feature_names[i]\n",
    "                             for i in topic.argsort()[:-n_top_words - 1:-1]])\n",
    "        print(message)\n",
    "    \n",
    "\n"
   ]
  },
  {
   "cell_type": "code",
   "execution_count": 4,
   "metadata": {
    "collapsed": false
   },
   "outputs": [],
   "source": [
    "no_topic = 10\n",
    "\n",
    "lda = LatentDirichletAllocation(n_components=no_topic, max_iter=5, learning_method='online', learning_offset=50.,random_state=0)\n",
    "tf_vectorizer = CountVectorizer(tokenizer=tokenizeStructures, max_features=no_features, stop_words='english')\n",
    "\n",
    "\n",
    "tf = tf_vectorizer.fit_transform(content[0])\n",
    "\n",
    "tf_feature_names = tf_vectorizer.get_feature_names()\n",
    "topics = lda.fit(tf)"
   ]
  },
  {
   "cell_type": "code",
   "execution_count": 10,
   "metadata": {
    "collapsed": false,
    "scrolled": false
   },
   "outputs": [
    {
     "name": "stdout",
     "output_type": "stream",
     "text": [
      "Topic #0: chinese makeupoftheday nadinelustre motd nadine proverbs beyondbeautiful ilovemakeup daddydomsexual lovebrooklyn\n",
      "Topic #1: meditate ptsd mindful mentalhealth… buddhist depressed nlighten anxious god sober\n",
      "Topic #2: mental suicide selfharm free ana depressed important mentalillness good harm\n",
      "Topic #3: naman ang nga ako kong akong mong lang yan ngayon\n",
      "Topic #4: capricorn niallofficial nightlit fun different louis unsplash content social btsforvmas\n",
      "Topic #5: good happy new beautiful ive dont great little bad real\n",
      "Topic #6: una que não los uma noaisqueen moldavite tuitutil las nuevos\n",
      "Topic #7: soundcloud nak untuk niet 블랙핑크 een indiemusic aku nendoroid ada\n",
      "Topic #8: ive good happy sad dont bad fat hard fucking wish\n",
      "Topic #9: new great free good white big black happy available little\n"
     ]
    }
   ],
   "source": [
    "print_top_words(lda, tf_feature_names, 10)"
   ]
  },
  {
   "cell_type": "code",
   "execution_count": null,
   "metadata": {
    "collapsed": false
   },
   "outputs": [],
   "source": [
    "print(lda.components_)"
   ]
  },
  {
   "cell_type": "code",
   "execution_count": 4,
   "metadata": {
    "collapsed": false,
    "scrolled": true
   },
   "outputs": [],
   "source": [
    "\n",
    "\n",
    "for n in range(doc_topic.shape[0]):\n",
    "    topic_most_pr = doc_topic[n].argmax()\n",
    "    #print(\"doc: {} topic: {}\\n\".format(n,topic_most_pr))"
   ]
  },
  {
   "cell_type": "code",
   "execution_count": 5,
   "metadata": {
    "collapsed": false,
    "scrolled": true
   },
   "outputs": [
    {
     "name": "stdout",
     "output_type": "stream",
     "text": [
      "[ 0.1  0.1  0.1  0.1  0.1  0.1  0.1  0.1  0.1  0.1]\n",
      "240092\n",
      "2\n"
     ]
    }
   ],
   "source": [
    "print(doc_topic[1])\n",
    "\n",
    "print(doc_topic.shape[0])\n",
    "print(len(content))"
   ]
  },
  {
   "cell_type": "code",
   "execution_count": 7,
   "metadata": {
    "collapsed": false
   },
   "outputs": [],
   "source": [
    "import pandas as pd\n",
    "\n",
    "doc_topic = lda.transform(tf)\n",
    "\n",
    "#gets the topics\n",
    "topics = [i.argmax() for i in doc_topic]\n",
    "\n",
    "table = {'text': content[0], 'labels': content[1], 'topic': topics, 'id': range(len(content[0])) }\n",
    "frame = pd.DataFrame(table, index=content[1], columns=['text', 'labels', 'topic', 'id'])\n"
   ]
  },
  {
   "cell_type": "code",
   "execution_count": null,
   "metadata": {
    "collapsed": false
   },
   "outputs": [],
   "source": []
  },
  {
   "cell_type": "code",
   "execution_count": 9,
   "metadata": {
    "collapsed": false
   },
   "outputs": [
    {
     "data": {
      "image/png": "[encoded data removed]",
      "text/plain": [
       "<matplotlib.figure.Figure at 0x7f467a0cf7b8>"
      ]
     },
     "metadata": {},
     "output_type": "display_data"
    }
   ],
   "source": [
    "import matplotlib.pyplot as plt\n",
    "import numpy as np\n",
    "\n",
    "#print(frame['topic'][-1])\n",
    "\n",
    "width = 0.01\n",
    "#set up the histogram\n",
    "x0 = frame['topic'][1]\n",
    "x1 = frame['topic'][-1]\n",
    "plt.hist(x0, alpha=0.3, label='goodVibes')\n",
    "plt.hist(x1, alpha=0.3, label='darkMind')\n",
    "plt.legend(loc='upper right')\n",
    "plt.xlabel('count')\n",
    "plt.ylabel('topic ids')\n",
    "plt.title('wow')\n",
    "plt.axis([-1, 11, 0, 1300])\n",
    "\n",
    "plt.show()"
   ]
  },
  {
   "cell_type": "code",
   "execution_count": null,
   "metadata": {
    "collapsed": false
   },
   "outputs": [],
   "source": []
  },
  {
   "cell_type": "code",
   "execution_count": null,
   "metadata": {
    "collapsed": false
   },
   "outputs": [],
   "source": []
  },
  {
   "cell_type": "code",
   "execution_count": null,
   "metadata": {
    "collapsed": false
   },
   "outputs": [],
   "source": []
  },
  {
   "cell_type": "code",
   "execution_count": null,
   "metadata": {
    "collapsed": false
   },
   "outputs": [],
   "source": []
  },
  {
   "cell_type": "code",
   "execution_count": null,
   "metadata": {
    "collapsed": false
   },
   "outputs": [],
   "source": []
  },
  {
   "cell_type": "code",
   "execution_count": null,
   "metadata": {
    "collapsed": true
   },
   "outputs": [],
   "source": [
    "#from sklearn.metrics.pairwise import cosine_similarity\n",
    "#dist = 1 - cosine_similarity(tf)\n",
    "\n",
    "#print(dist)"
   ]
  }
 ],
 "metadata": {
  "anaconda-cloud": {},
  "kernelspec": {
   "display_name": "Python [default]",
   "language": "python",
   "name": "python3"
  },
  "language_info": {
   "codemirror_mode": {
    "name": "ipython",
    "version": 3
   },
   "file_extension": ".py",
   "mimetype": "text/x-python",
   "name": "python",
   "nbconvert_exporter": "python",
   "pygments_lexer": "ipython3",
   "version": "3.5.2"
  }
 },
 "nbformat": 4,
 "nbformat_minor": 1
}
